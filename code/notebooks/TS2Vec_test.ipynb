{
 "cells": [
  {
   "cell_type": "code",
   "execution_count": 1,
   "metadata": {},
   "outputs": [],
   "source": [
    "import os, sys\n",
    "dir2 = os.path.abspath('')\n",
    "dir1 = os.path.dirname(dir2)\n",
    "if not dir1 in sys.path:\n",
    "    sys.path.append(dir1)\n",
    "os.chdir('..')"
   ]
  },
  {
   "cell_type": "code",
   "execution_count": 2,
   "metadata": {},
   "outputs": [],
   "source": [
    "import copy\n",
    "import warnings\n",
    "warnings.filterwarnings('ignore')\n",
    "\n",
    "import hydra\n",
    "from hydra.utils import instantiate\n",
    "from omegaconf import DictConfig\n",
    "\n",
    "from tqdm.auto import tqdm\n",
    "\n",
    "import torch\n",
    "from torch.utils.data import DataLoader\n",
    "\n",
    "from src.data import load_Ford_A, transform_data, MyDataset\n",
    "from src.models import LSTM_net\n",
    "\n",
    "from src.attacks import attack_procedure\n",
    "from src.utils import save_experiment, load_disc_model\n",
    "from src.config import get_attack, load_disc_config\n",
    "from src.data import load_UCR\n"
   ]
  },
  {
   "cell_type": "code",
   "execution_count": 3,
   "metadata": {},
   "outputs": [
    {
     "name": "stdout",
     "output_type": "stream",
     "text": [
      "dataset: PowerCons\n",
      "slice: true\n",
      "use_disc_check: false\n",
      "test_run: false\n",
      "model_folder: checkpoints/${dataset}/TS2Vec/\n",
      "disc_path: results/${dataset}/IFGSM\n",
      "save_path: ${disc_path}/${attack_type}\n",
      "model_id_attack: 0\n",
      "attack_model:\n",
      "  _target_: src.models.TS2VecClassifier\n",
      "  dropout: None\n",
      "disc_model:\n",
      "  _target_: src.models.TS2VecClassifier\n",
      "  dropout: 0.0\n",
      "  dropout_ts2vec: 0.0\n",
      "  device: 2\n",
      "  n_layers: 2\n",
      "disc_model_check:\n",
      "  _target_: src.models.TS2VecClassifier\n",
      "  dropout: 0.0\n",
      "  dropout_ts2vec: 0.0\n",
      "  device: 2\n",
      "  n_layers: 2\n",
      "cuda: cuda:1\n",
      "attack_type: fgsm_attack\n",
      "n_iterations: 50\n",
      "all_eps:\n",
      "- 0.03\n",
      "- 0.07\n",
      "- 0.1\n",
      "- 0.13\n",
      "- 0.17\n",
      "train_mode: false\n",
      "batch_size: 64\n",
      "alphas:\n",
      "- 10\n",
      "- 1\n",
      "- 0.001\n",
      "- 0.01\n",
      "- 0.1\n",
      "disc_check_params:\n",
      "  model_id: 0\n",
      "  model_name: fgsm_attack/fgsm_attack_eps=0.1_nsteps=4\n",
      "list_reg_model_params:\n",
      "- model_id: 0\n",
      "  model_name: fgsm_reg_attack/fgsm_reg_attack_eps=0.1_alpha=0.01_nsteps=4\n",
      "- model_id: 0\n",
      "  model_name: fgsm_reg_attack/fgsm_reg_attack_eps=0.1_alpha=0.1_nsteps=4\n",
      "- model_id: 1\n",
      "  model_name: fgsm_reg_attack/fgsm_reg_attack_eps=0.1_alpha=0.01_nsteps=4\n",
      "- model_id: 1\n",
      "  model_name: fgsm_reg_attack/fgsm_reg_attack_eps=0.1_alpha=0.1_nsteps=4\n",
      "\n"
     ]
    }
   ],
   "source": [
    "from hydra import compose, initialize\n",
    "from omegaconf import OmegaConf\n",
    "initialize(config_path='../config', version_base=None)\n",
    "cfg = compose(config_name='attack_run_config.yaml')\n",
    "print(OmegaConf.to_yaml(cfg))"
   ]
  },
  {
   "cell_type": "code",
   "execution_count": 4,
   "metadata": {},
   "outputs": [
    {
     "name": "stderr",
     "output_type": "stream",
     "text": [
      "100%|██████████| 1/1 [00:00<00:00, 46.29it/s]\n"
     ]
    }
   ],
   "source": [
    "# load data\n",
    "if cfg['dataset'] == 'Ford_A':\n",
    "    X_train, X_test, y_train, y_test = load_Ford_A()\n",
    "else:\n",
    "    X_train, y_train, X_test, y_test = load_UCR(cfg['dataset'])\n",
    "\n",
    "X_train, X_test, y_train, y_test = transform_data(X_train, X_test, y_train, y_test, slice_data=cfg['slice'])\n",
    "\n",
    "test_loader = DataLoader(\n",
    "    MyDataset(X_test, y_test), \n",
    "    batch_size=cfg['batch_size'] , \n",
    "    shuffle=False\n",
    "    )\n",
    "\n",
    "criterion = torch.nn.BCELoss()\n",
    "n_objects = y_test.shape[0]\n",
    "device= torch.device(cfg['cuda'] if torch.cuda.is_available() else 'cpu')\n",
    "attack_func = get_attack(cfg['attack_type'])\n",
    "\n",
    "\n",
    "model = instantiate(cfg.attack_model).to(device)\n",
    "\n",
    "disc_model = instantiate(cfg.disc_model).to(device)\n",
    "\n",
    "if cfg['use_disc_check']:\n",
    "    disc_model_check = instantiate(cfg.disc_model_check).to(device)\n",
    "    disc_model_check = load_disc_model(\n",
    "        copy.deepcopy(disc_model_check),\n",
    "        model_id=cfg['disc_check_params']['model_id'], \n",
    "        path=cfg['disc_path'], \n",
    "        model_name=cfg['disc_check_params']['model_name'], \n",
    "        device=device\n",
    "        )\n",
    "    disc_model_check.eval()\n",
    "else: \n",
    "    disc_model_check = None\n",
    "\n",
    "alphas = [0]\n",
    "if 'reg' in cfg['attack_type'] or 'disc' in cfg['attack_type']:\n",
    "    alphas = cfg['alphas']\n",
    "\n",
    "for alpha in tqdm(alphas):\n",
    "\n",
    "    attack_params = dict()\n",
    "\n",
    "    if 'reg' in cfg['attack_type'] :\n",
    "        attack_params['alpha'] = alpha\n",
    "\n",
    "    elif 'disc' in cfg['attack_type']:\n",
    "        attack_params['alpha'] = alpha\n",
    "        attack_params['disc_models'] = load_disc_config(\n",
    "            copy.deepcopy(disc_model),\n",
    "            cfg['disc_path'], \n",
    "            device, \n",
    "            cfg['list_reg_model_params']\n",
    "            )  \n",
    "        \n",
    "        attack_params['disc_models'] = [model.eval() for model in  attack_params['disc_models']]\n",
    "    \n",
    "    model_path = cfg['model_folder'] + f'model_{cfg[\"model_id_attack\"]}_{cfg[\"dataset\"]}.pth'\n",
    "    model.load_state_dict(copy.deepcopy(torch.load(model_path)))\n",
    "    model.eval()"
   ]
  },
  {
   "cell_type": "code",
   "execution_count": 9,
   "metadata": {},
   "outputs": [
    {
     "name": "stdout",
     "output_type": "stream",
     "text": [
      "tensor([0.5119, 0.4826, 0.4832, 0.4910, 0.5135, 0.4938, 0.5077, 0.4878, 0.4871,\n",
      "        0.4819], device='cuda:1', grad_fn=<SliceBackward0>) tensor([0., 0., 0., 0., 0., 0., 0., 0., 0., 0.])\n",
      "tensor([0.4898, 0.4949, 0.4938, 0.4998, 0.5002, 0.4833, 0.4893, 0.4822, 0.4902,\n",
      "        0.4885], device='cuda:1', grad_fn=<SliceBackward0>) tensor([0., 0., 0., 0., 0., 0., 0., 0., 0., 0.])\n",
      "tensor([0.4895, 0.4787, 0.4848, 0.4896, 0.4830, 0.4989, 0.4949, 0.4826, 0.5187,\n",
      "        0.4827], device='cuda:1', grad_fn=<SliceBackward0>) tensor([0., 0., 0., 0., 0., 0., 0., 0., 0., 0.])\n",
      "tensor([0.5024, 0.4827, 0.4950, 0.4789, 0.4830, 0.4785, 0.4908, 0.4964, 0.4813,\n",
      "        0.4824], device='cuda:1', grad_fn=<SliceBackward0>) tensor([0., 0., 0., 0., 0., 0., 0., 0., 0., 0.])\n",
      "tensor([0.4984, 0.4897, 0.4835, 0.4827, 0.4910, 0.4831, 0.4975, 0.5122, 0.4935,\n",
      "        0.4981], device='cuda:1', grad_fn=<SliceBackward0>) tensor([0., 0., 0., 0., 0., 0., 0., 0., 0., 0.])\n",
      "tensor([0.4823, 0.4951, 0.4912, 0.4894, 0.5110, 0.5060, 0.4883, 0.4972, 0.4986,\n",
      "        0.5053], device='cuda:1', grad_fn=<SliceBackward0>) tensor([0., 0., 0., 0., 0., 0., 0., 0., 0., 0.])\n"
     ]
    }
   ],
   "source": [
    "y_true = torch.Tensor()\n",
    "y_pred = torch.Tensor()\n",
    "\n",
    "model.eval()\n",
    "# disc_model = attack_params['disc_models'][0]\n",
    "# disc_model.train()\n",
    "\n",
    "for X, y in test_loader:\n",
    "    pred = model(X.to(device))\n",
    "    print(pred.flatten()[:10], y.flatten()[:10])\n",
    "\n",
    "    y_true = torch.cat([y_true, torch.zeros_like(y)])\n",
    "    y_pred = torch.cat([y_pred, pred.cpu()])\n",
    "    # if 1 in pred.to(int):\n",
    "    #     print('1 is detected')\n",
    "    #     break\n",
    "        "
   ]
  },
  {
   "cell_type": "code",
   "execution_count": 10,
   "metadata": {},
   "outputs": [
    {
     "data": {
      "text/plain": [
       "tensor(0.6861)"
      ]
     },
     "execution_count": 10,
     "metadata": {},
     "output_type": "execute_result"
    }
   ],
   "source": [
    "#accuracy\n",
    "torch.sum(y_true.flatten() == (y_pred.flatten() > 0.5)) / len(y_true.flatten())"
   ]
  },
  {
   "cell_type": "markdown",
   "metadata": {},
   "source": [
    "# check output of the models"
   ]
  },
  {
   "cell_type": "code",
   "execution_count": null,
   "metadata": {},
   "outputs": [],
   "source": [
    "# disc_model_check, attack_params['disc_models']"
   ]
  },
  {
   "cell_type": "code",
   "execution_count": null,
   "metadata": {},
   "outputs": [],
   "source": []
  }
 ],
 "metadata": {
  "kernelspec": {
   "display_name": "base",
   "language": "python",
   "name": "python3"
  },
  "language_info": {
   "codemirror_mode": {
    "name": "ipython",
    "version": 3
   },
   "file_extension": ".py",
   "mimetype": "text/x-python",
   "name": "python",
   "nbconvert_exporter": "python",
   "pygments_lexer": "ipython3",
   "version": "3.9.16"
  },
  "orig_nbformat": 4
 },
 "nbformat": 4,
 "nbformat_minor": 2
}
