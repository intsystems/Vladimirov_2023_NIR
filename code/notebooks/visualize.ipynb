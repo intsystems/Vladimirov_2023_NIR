{
 "cells": [
  {
   "cell_type": "code",
   "execution_count": 1,
   "metadata": {
    "collapsed": true,
    "ExecuteTime": {
     "start_time": "2023-12-12T15:52:33.933900Z",
     "end_time": "2023-12-12T15:52:34.211288Z"
    }
   },
   "outputs": [],
   "source": [
    "import pandas as pd\n",
    "import numpy as np\n",
    "from matplotlib import pyplot as plt"
   ]
  },
  {
   "cell_type": "code",
   "execution_count": null,
   "outputs": [],
   "source": [
    "dataset = 'Strawberry'\n",
    "model_id = 5\n",
    "\n",
    "eps_list = [0.001, 0.002, 0.003, 0.005, 0.01, 0.05]\n",
    "alp_list = [0.001, 0.01, 0.1, 1, 10, 100]\n",
    "\n",
    "nodisc = pd.read_csv(f'{dataset}/aa_res_{dataset}_{model_id}.csv', index_col=0).set_index('n steps')\n",
    "\n",
    "fig, ax = plt.subplots(len(eps_list), len(alp_list), figsize=(40, 30))\n",
    "\n",
    "for i, epsilon in enumerate(eps_list):\n",
    "    nodisc_tmp = nodisc[nodisc['eps']==epsilon][['ACC', 'HID']]\n",
    "    nodisc_tmp.columns = [col+'_NO_DISC' for col in nodisc_tmp.columns]\n",
    "\n",
    "\n",
    "    for j, alpha in enumerate(alp_list):\n",
    "        disc_tmp = pd.read_csv(f'{dataset}/aa_res_{dataset}_{model_id}_alpha={alpha}.csv', index_col=0).set_index('n steps')\n",
    "        disc_tmp = disc_tmp[disc_tmp['eps']==epsilon][['ACC', 'HID']]\n",
    "\n",
    "        disc_tmp.columns = [col+'_DISC' for col in disc_tmp.columns]\n",
    "\n",
    "        ax[i, j].plot(disc_tmp, label = disc_tmp.columns)\n",
    "        ax[i, j].plot(nodisc_tmp, label = nodisc_tmp.columns)\n",
    "        ax[i, j].set_title(label = f'eps={epsilon}, alpha={alpha}')\n",
    "        ax[i, j].legend()"
   ],
   "metadata": {
    "collapsed": false
   }
  }
 ],
 "metadata": {
  "kernelspec": {
   "display_name": "Python 3",
   "language": "python",
   "name": "python3"
  },
  "language_info": {
   "codemirror_mode": {
    "name": "ipython",
    "version": 2
   },
   "file_extension": ".py",
   "mimetype": "text/x-python",
   "name": "python",
   "nbconvert_exporter": "python",
   "pygments_lexer": "ipython2",
   "version": "2.7.6"
  }
 },
 "nbformat": 4,
 "nbformat_minor": 0
}
